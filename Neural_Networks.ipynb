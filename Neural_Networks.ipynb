{
 "cells": [
  {
   "cell_type": "code",
   "execution_count": null,
   "metadata": {},
   "outputs": [],
   "source": [
    "# Implementation of neural networks using NUMPY"
   ]
  },
  {
   "cell_type": "code",
   "execution_count": 3,
   "metadata": {},
   "outputs": [],
   "source": [
    "#Data set \n",
    "\n",
    "#A\n",
    "a = [0,0,1,1,0,0,\n",
    "     0,1,0,0,1,0,\n",
    "     1,1,1,1,1,1,\n",
    "     1,0,0,0,0,1,\n",
    "     1,0,0,0,0,1]\n",
    "\n",
    "#B\n",
    "b = [0,1,1,1,1,0,\n",
    "     0,1,0,0,1,0,\n",
    "     0,1,1,1,1,0,\n",
    "     0,1,0,0,1,0,\n",
    "     0,1,1,1,1,0]\n",
    "\n",
    "#C\n",
    "c = [0,1,1,1,1,0,\n",
    "     0,1,0,0,0,0,\n",
    "     0,1,0,0,0,0,\n",
    "     0,1,0,0,0,0,\n",
    "     0,1,1,1,1,0]"
   ]
  },
  {
   "cell_type": "code",
   "execution_count": 4,
   "metadata": {},
   "outputs": [],
   "source": [
    "#create labels \n",
    "\n",
    "y = [[1,0,0],\n",
    "     [0,1,0],\n",
    "     [0,0,1]]"
   ]
  },
  {
   "cell_type": "code",
   "execution_count": 5,
   "metadata": {},
   "outputs": [],
   "source": [
    "import numpy as np \n",
    "import matplotlib.pyplot as plt"
   ]
  },
  {
   "cell_type": "code",
   "execution_count": 6,
   "metadata": {},
   "outputs": [
    {
     "data": {
      "text/plain": [
       "<matplotlib.image.AxesImage at 0x137c06120>"
      ]
     },
     "execution_count": 6,
     "metadata": {},
     "output_type": "execute_result"
    },
    {
     "data": {
      "image/png": "[encoded data removed]",
      "text/plain": [
       "<Figure size 640x480 with 1 Axes>"
      ]
     },
     "metadata": {},
     "output_type": "display_data"
    }
   ],
   "source": [
    "#Visualise the data \n",
    "plt.imshow(np.array(a).reshape(5,6))"
   ]
  },
  {
   "cell_type": "code",
   "execution_count": 7,
   "metadata": {},
   "outputs": [
    {
     "name": "stdout",
     "output_type": "stream",
     "text": [
      "[array([[0, 0, 1, 1, 0, 0, 0, 1, 0, 0, 1, 0, 1, 1, 1, 1, 1, 1, 1, 0, 0, 0,\n",
      "        0, 1, 1, 0, 0, 0, 0, 1]]), array([[0, 1, 1, 1, 1, 0, 0, 1, 0, 0, 1, 0, 0, 1, 1, 1, 1, 0, 0, 1, 0, 0,\n",
      "        1, 0, 0, 1, 1, 1, 1, 0]]), array([[0, 1, 1, 1, 1, 0, 0, 1, 0, 0, 0, 0, 0, 1, 0, 0, 0, 0, 0, 1, 0, 0,\n",
      "        0, 0, 0, 1, 1, 1, 1, 0]])] \n",
      "\n",
      " [[1 0 0]\n",
      " [0 1 0]\n",
      " [0 0 1]]\n"
     ]
    }
   ],
   "source": [
    "#Convert data and labels into numpy arrays \n",
    "x = [np.array(a).reshape(1,30) , np.array(b).reshape(1,30) , np.array(c).reshape(1,30)]\n",
    "y = np.array(y) \n",
    "\n",
    "print(x, \"\\n\\n\", y)"
   ]
  },
  {
   "cell_type": "code",
   "execution_count": 8,
   "metadata": {},
   "outputs": [],
   "source": [
    "#input (1, 30)\n",
    "#hidden layer(1,5) \n",
    "#output(3,3)"
   ]
  },
  {
   "cell_type": "code",
   "execution_count": 9,
   "metadata": {},
   "outputs": [],
   "source": [
    "#Creating the activation function\n",
    "\n",
    "def sigmoid(x):\n",
    "    return(1/(1+np.exp(-x)))"
   ]
  },
  {
   "cell_type": "code",
   "execution_count": 10,
   "metadata": {},
   "outputs": [],
   "source": [
    "#creating forward NN \n",
    "def f_forward(x , w1 , w2):\n",
    "    #hidden layer \n",
    "    z1 = x.dot(w1)\n",
    "    a1 = sigmoid(z1) \n",
    "\n",
    "    #output layer\n",
    "    z2 = a1.dot(w2)\n",
    "    a2 = sigmoid(z2)\n",
    "\n",
    "    return (a2)"
   ]
  },
  {
   "cell_type": "code",
   "execution_count": 11,
   "metadata": {},
   "outputs": [],
   "source": [
    "#initial the weights \n",
    "\n",
    "def generate_weights(x,y):\n",
    "    l = [] \n",
    "    for i in range(x * y):\n",
    "        l.append(np.random.randn())\n",
    "    return (np.array(l).reshape(x,y))"
   ]
  },
  {
   "cell_type": "code",
   "execution_count": 12,
   "metadata": {},
   "outputs": [],
   "source": [
    "#loss \n",
    "def loss_fn(out , y):\n",
    "    s = (np.square(out-y))\n",
    "    s = np.sum(s) / len(y)\n",
    "    return (s)"
   ]
  },
  {
   "cell_type": "code",
   "execution_count": 13,
   "metadata": {},
   "outputs": [],
   "source": [
    "#Back Propogation \n",
    "def back_prop(x , y , w1 , w2 , alpha):\n",
    "    #hidden layer \n",
    "    z1 = x.dot(w1)\n",
    "    a1 = sigmoid(z1) \n",
    "\n",
    "    #output layer \n",
    "    z2 = a1.dot(w2)\n",
    "    a2 = sigmoid(z2)\n",
    "\n",
    "    d2 = (a2 - y)\n",
    "    # d1 = np.multiply((w2.dot((d2.transpose())))).transpose() , (np.multiply(a1, 1-a1))\n",
    "    d1 = np.multiply(w2.dot(d2.T).T, a1 * (1 - a1))\n",
    "\n",
    "\n",
    "    #gradient \n",
    "    w1_adj = x.transpose().dot(d1)\n",
    "    w2_adj = a1.transpose().dot(d2)\n",
    "\n",
    "    w1 = w1  - (alpha * (w1_adj))\n",
    "    w2 = w2  - (alpha * (w2_adj))\n",
    "\n",
    "\n",
    "    return (w1 , w2)"
   ]
  },
  {
   "cell_type": "code",
   "execution_count": 14,
   "metadata": {},
   "outputs": [],
   "source": [
    "def train(x , y , w1 , w2 , alpha=0.1 , epoch = 10):\n",
    "    acc = [] \n",
    "    losses = [] \n",
    "\n",
    "    for j in range(epoch):\n",
    "        l = [] \n",
    "        for i in range(len(x)):\n",
    "            out = f_forward(x[i], w1 , w2)\n",
    "            l.append((loss_fn(out , y[i])))\n",
    "            w1 , w2 = back_prop(x[i], y[i], w1 , w2 , alpha)\n",
    "\n",
    "        print(\"Epochs : \" , j+1 , \"Acc : \", (1-(sum(l)/len(x))) * 100)\n",
    "        acc.append((1-(sum(l)/len(x))) * 100)\n",
    "        losses.append(sum(l)/len(x))\n",
    "        \n",
    "    return acc , losses , w1 , w2"
   ]
  },
  {
   "cell_type": "code",
   "execution_count": 15,
   "metadata": {},
   "outputs": [],
   "source": [
    "def predict(x , w1 , w2):\n",
    "    Out = f_forward(x , w1 , w2)\n",
    "    maxm = 0 \n",
    "    k = 0 \n",
    "\n",
    "    for i in range(len(Out[0])):\n",
    "        if(maxm < Out[0][i]):\n",
    "            maxm = Out[0][i]\n",
    "            k = i \n",
    "\n",
    "    if (k == 0):\n",
    "        print(\"Image of letter A\")\n",
    "    elif(k == 1):\n",
    "        print(\"Image of letter B\")\n",
    "    else:\n",
    "        print(\"Image of letter C\")\n",
    "\n",
    "    plt.imshow(x.reshape(5,6))\n",
    "    plt.show()"
   ]
  },
  {
   "cell_type": "code",
   "execution_count": 16,
   "metadata": {},
   "outputs": [
    {
     "name": "stdout",
     "output_type": "stream",
     "text": [
      "[[-1.54465681  2.34375873 -0.8618071  -2.57383167  1.1963134 ]\n",
      " [-0.30669424 -0.48580107 -0.4185646  -0.83509596  1.6489573 ]\n",
      " [-1.25356365  0.98745143 -0.25500752 -2.45329422 -0.96107479]\n",
      " [ 0.86875564  0.47337318 -0.54973485 -1.10566358  0.61547713]\n",
      " [-0.27181109 -0.70602808 -1.10593314  0.30634238  1.49730983]\n",
      " [ 1.87512804  1.14878919  1.15001801 -0.3796715   0.01095316]\n",
      " [ 0.66603291 -2.1174008  -1.05015214  0.75875479 -0.59672917]\n",
      " [-0.37777874  1.31431369  3.81258986 -0.77186125 -1.38969785]\n",
      " [-0.83045535  0.27070335  0.60276607 -0.1098661  -2.39950952]\n",
      " [ 0.89921226  0.162285    1.97858083 -0.81260091  0.83916662]\n",
      " [-0.51276849  0.04460948  0.43163611  0.16812278 -0.3984918 ]\n",
      " [ 0.95422945 -0.75017398 -1.96925214 -0.7807625  -0.58411617]\n",
      " [-0.91717455 -0.66405588  0.76342358 -0.57705695  0.75739061]\n",
      " [-0.56741528  1.13090545 -1.01393828  1.09394537 -0.57483525]\n",
      " [ 1.06178462 -0.46602083  0.12237247  1.77708487 -0.95667996]\n",
      " [ 0.14282571 -1.14921862  0.97243898  0.34768362 -0.54912005]\n",
      " [-1.04156156 -1.53909224 -0.08741133 -0.73520208 -0.09064961]\n",
      " [ 1.68785984  1.82595519  1.78322102 -0.42621186  0.6524915 ]\n",
      " [-0.93994731 -1.57689856  0.37945489 -0.28429718  0.81047836]\n",
      " [ 1.34225484  0.30590012  0.12188654  0.64919605 -0.36156002]\n",
      " [ 0.80672078 -0.94887637  0.86643766 -0.30922299 -2.27163981]\n",
      " [ 0.85151535  0.65434198 -1.07097804 -0.88163337  1.24004527]\n",
      " [ 0.35780795 -0.33651411  1.06590866 -0.30211966 -0.54466675]\n",
      " [ 0.53614625 -1.0938762  -0.35518299  0.35388837 -0.14593493]\n",
      " [-0.43786236  1.25234239  1.81380985  1.20589053 -2.79113672]\n",
      " [-0.36334512 -0.99199729  0.55120454  0.25770624  0.96019305]\n",
      " [-0.43106259 -0.14126838  0.19325206  1.77883375  0.4514011 ]\n",
      " [ 0.09541116 -0.93486266  0.04937519 -0.82447044  0.69066681]\n",
      " [ 1.15144398 -0.74569936 -0.48491131 -0.28816252  0.73804407]\n",
      " [-1.67474197 -1.51286197  0.40591016  0.07168984 -0.37321184]] \n",
      " [[-0.06955872  1.52010309 -0.71203864]\n",
      " [ 0.42670517 -1.33663337  1.03788965]\n",
      " [ 0.21216584  3.51228839  1.55292617]\n",
      " [-0.62091465 -1.01418879 -0.62734319]\n",
      " [-0.30558981  0.82939081 -0.39149765]]\n"
     ]
    }
   ],
   "source": [
    "w1 = generate_weights(30 , 5)\n",
    "w2 = generate_weights(5 , 3)\n",
    "\n",
    "print(w1, \"\\n\", w2) "
   ]
  },
  {
   "cell_type": "code",
   "execution_count": 17,
   "metadata": {},
   "outputs": [
    {
     "name": "stdout",
     "output_type": "stream",
     "text": [
      "Epochs :  1 Acc :  58.54630608703106\n",
      "Epochs :  2 Acc :  61.863370397031915\n",
      "Epochs :  3 Acc :  66.77761465924999\n",
      "Epochs :  4 Acc :  71.20788599623415\n",
      "Epochs :  5 Acc :  74.41133965671864\n",
      "Epochs :  6 Acc :  76.84025005893098\n",
      "Epochs :  7 Acc :  78.78600691000698\n",
      "Epochs :  8 Acc :  80.41483016629589\n",
      "Epochs :  9 Acc :  81.8202308421366\n",
      "Epochs :  10 Acc :  83.05537397690175\n",
      "Epochs :  11 Acc :  84.15394388339134\n",
      "Epochs :  12 Acc :  85.14032397404517\n",
      "Epochs :  13 Acc :  86.03370210727563\n",
      "Epochs :  14 Acc :  86.84960307360853\n",
      "Epochs :  15 Acc :  87.60053842136946\n",
      "Epochs :  16 Acc :  88.2964209272402\n",
      "Epochs :  17 Acc :  88.94494433256877\n",
      "Epochs :  18 Acc :  89.55196717629946\n",
      "Epochs :  19 Acc :  90.12189025042991\n",
      "Epochs :  20 Acc :  90.65800753075561\n",
      "Epochs :  21 Acc :  91.16281353304075\n",
      "Epochs :  22 Acc :  91.63825678270405\n",
      "Epochs :  23 Acc :  92.08593625093545\n",
      "Epochs :  24 Acc :  92.50724373919522\n",
      "Epochs :  25 Acc :  92.9034594890659\n",
      "Epochs :  26 Acc :  93.27581049371348\n",
      "Epochs :  27 Acc :  93.62550132162954\n",
      "Epochs :  28 Acc :  93.95372627959142\n",
      "Epochs :  29 Acc :  94.26167006522283\n",
      "Epochs :  30 Acc :  94.55050221128755\n",
      "Epochs :  31 Acc :  94.82136894141179\n",
      "Epochs :  32 Acc :  95.07538470078532\n",
      "Epochs :  33 Acc :  95.3136246283119\n",
      "Epochs :  34 Acc :  95.53711855943112\n",
      "Epochs :  35 Acc :  95.74684672344547\n",
      "Epochs :  36 Acc :  95.9437370554295\n",
      "Epochs :  37 Acc :  96.12866392087957\n",
      "Epochs :  38 Acc :  96.30244800565616\n",
      "Epochs :  39 Acc :  96.46585712243746\n",
      "Epochs :  40 Acc :  96.61960770668608\n",
      "Epochs :  41 Acc :  96.76436680686945\n",
      "Epochs :  42 Acc :  96.90075440769147\n",
      "Epochs :  43 Acc :  97.02934595727825\n",
      "Epochs :  44 Acc :  97.15067499769931\n",
      "Epochs :  45 Acc :  97.26523582227212\n",
      "Epochs :  46 Acc :  97.37348610286216\n",
      "Epochs :  47 Acc :  97.4758494462623\n",
      "Epochs :  48 Acc :  97.57271785125714\n",
      "Epochs :  49 Acc :  97.66445404770715\n",
      "Epochs :  50 Acc :  97.75139370643986\n",
      "Epochs :  51 Acc :  97.83384751436121\n",
      "Epochs :  52 Acc :  97.91210311338043\n",
      "Epochs :  53 Acc :  97.9864269047869\n",
      "Epochs :  54 Acc :  98.05706572288085\n",
      "Epochs :  55 Acc :  98.12424838314271\n",
      "Epochs :  56 Acc :  98.18818711118898\n",
      "Epochs :  57 Acc :  98.24907885933104\n",
      "Epochs :  58 Acc :  98.30710651782731\n",
      "Epochs :  59 Acc :  98.36244002797439\n",
      "Epochs :  60 Acc :  98.41523740407985\n",
      "Epochs :  61 Acc :  98.46564567114581\n",
      "Epochs :  62 Acc :  98.51380172480079\n",
      "Epochs :  63 Acc :  98.55983311967853\n",
      "Epochs :  64 Acc :  98.60385879207439\n",
      "Epochs :  65 Acc :  98.64598972232902\n",
      "Epochs :  66 Acc :  98.68632954200693\n",
      "Epochs :  67 Acc :  98.72497509056224\n",
      "Epochs :  68 Acc :  98.76201692582015\n",
      "Epochs :  69 Acc :  98.7975397922569\n",
      "Epochs :  70 Acc :  98.8316230507326\n",
      "Epochs :  71 Acc :  98.86434107302416\n",
      "Epochs :  72 Acc :  98.89576360421854\n",
      "Epochs :  73 Acc :  98.9259560957614\n",
      "Epochs :  74 Acc :  98.95498001170986\n",
      "Epochs :  75 Acc :  98.98289311051283\n",
      "Epochs :  76 Acc :  99.00974970443512\n",
      "Epochs :  77 Acc :  99.03560089855151\n",
      "Epochs :  78 Acc :  99.06049481106413\n",
      "Epochs :  79 Acc :  99.08447677653854\n",
      "Epochs :  80 Acc :  99.10758953350995\n",
      "Epochs :  81 Acc :  99.12987339778033\n",
      "Epochs :  82 Acc :  99.15136642260846\n",
      "Epochs :  83 Acc :  99.17210454688677\n",
      "Epochs :  84 Acc :  99.19212173230119\n",
      "Epochs :  85 Acc :  99.211450090381\n",
      "Epochs :  86 Acc :  99.23012000026556\n",
      "Epochs :  87 Acc :  99.24816021794095\n",
      "Epochs :  88 Acc :  99.26559797763404\n",
      "Epochs :  89 Acc :  99.28245908599071\n",
      "Epochs :  90 Acc :  99.29876800961051\n",
      "Epochs :  91 Acc :  99.3145479564611\n",
      "Epochs :  92 Acc :  99.32982095164947\n",
      "Epochs :  93 Acc :  99.34460790798784\n",
      "Epochs :  94 Acc :  99.35892869175366\n",
      "Epochs :  95 Acc :  99.37280218401007\n",
      "Epochs :  96 Acc :  99.38624633782224\n",
      "Epochs :  97 Acc :  99.39927823167764\n",
      "Epochs :  98 Acc :  99.41191411939198\n",
      "Epochs :  99 Acc :  99.42416947676051\n",
      "Epochs :  100 Acc :  99.43605904519228\n"
     ]
    }
   ],
   "source": [
    "acc,losses,w1,w2 = train(x , y , w1 , w2 , 0.1 , 100)"
   ]
  },
  {
   "cell_type": "code",
   "execution_count": 18,
   "metadata": {},
   "outputs": [
    {
     "data": {
      "image/png": "[encoded data removed]",
      "text/plain": [
       "<Figure size 640x480 with 1 Axes>"
      ]
     },
     "metadata": {},
     "output_type": "display_data"
    }
   ],
   "source": [
    "import matplotlib.pyplot as plt1\n",
    "\n",
    "#plotting accuracy \n",
    "plt1.plot(acc)\n",
    "plt1.ylabel(\"Accuracy\")\n",
    "plt1.xlabel(\"Epochs:\")\n",
    "plt1.show()"
   ]
  },
  {
   "cell_type": "code",
   "execution_count": 19,
   "metadata": {},
   "outputs": [
    {
     "data": {
      "image/png": "[encoded data removed]",
      "text/plain": [
       "<Figure size 640x480 with 1 Axes>"
      ]
     },
     "metadata": {},
     "output_type": "display_data"
    }
   ],
   "source": [
    "#plot loss \n",
    "plt1.plot(losses)\n",
    "plt1.ylabel(\"Loss\")\n",
    "plt1.xlabel(\"Epochs:\")\n",
    "plt1.show()"
   ]
  },
  {
   "cell_type": "code",
   "execution_count": 20,
   "metadata": {},
   "outputs": [
    {
     "name": "stdout",
     "output_type": "stream",
     "text": [
      "[[-1.54465681  2.34375873 -0.8618071  -2.57383167  1.1963134 ]\n",
      " [-0.33687637 -0.4362196  -0.74313651 -1.00551469  1.85136566]\n",
      " [-1.42611723  1.47232155 -0.58165628 -2.24127967 -0.81324513]\n",
      " [ 0.69620206  0.9582433  -0.87638361 -0.89364903  0.76330679]\n",
      " [-0.30199322 -0.65644661 -1.43050506  0.13592365  1.69971819]\n",
      " [ 1.87512804  1.14878919  1.15001801 -0.3796715   0.01095316]\n",
      " [ 0.66603291 -2.1174008  -1.05015214  0.75875479 -0.59672917]\n",
      " [-0.55033232  1.79918381  3.4859411  -0.5598467  -1.2418682 ]\n",
      " [-0.83045535  0.27070335  0.60276607 -0.1098661  -2.39950952]\n",
      " [ 0.89921226  0.162285    1.97858083 -0.81260091  0.83916662]\n",
      " [ 0.06176595 -0.19118085  0.82967318  0.65783095 -0.26464937]\n",
      " [ 0.95422945 -0.75017398 -1.96925214 -0.7807625  -0.58411617]\n",
      " [-1.05954599 -0.22876722  0.76134673 -0.19462368  0.70281191]\n",
      " [-0.73996886  1.61577557 -1.34058704  1.30595991 -0.4270056 ]\n",
      " [ 1.63631906 -0.70181116  0.52040955  2.26679304 -0.82283752]\n",
      " [ 0.71736015 -1.38500895  1.37047605  0.83739179 -0.41527762]\n",
      " [-0.46702712 -1.77488257  0.31062575 -0.2454939   0.04319282]\n",
      " [ 1.5454884   2.26124385  1.78114418 -0.04377859  0.5979128 ]\n",
      " [-1.08231876 -1.1416099   0.37737805  0.0981361   0.75589966]\n",
      " [ 1.31207271  0.35548158 -0.20268537  0.47877733 -0.15915166]\n",
      " [ 0.80672078 -0.94887637  0.86643766 -0.30922299 -2.27163981]\n",
      " [ 0.85151535  0.65434198 -1.07097804 -0.88163337  1.24004527]\n",
      " [ 1.07471384 -1.00759309  1.46602258 -0.19484475 -0.35624561]\n",
      " [ 0.3937748  -0.65858754 -0.35725984  0.73632164 -0.20051364]\n",
      " [-0.58023381  1.68763104  1.81173301  1.5883238  -2.84571542]\n",
      " [-0.39352725 -0.94241583  0.22663263  0.08728751  1.16260141]\n",
      " [-0.46124472 -0.09168692 -0.13131985  1.60841503  0.65380946]\n",
      " [ 0.06522903 -0.88528119 -0.27519672 -0.99488917  0.89307517]\n",
      " [ 1.12126184 -0.6961179  -0.80948322 -0.45858125  0.94045243]\n",
      " [-1.81711342 -1.07757331  0.40383331  0.45412312 -0.42779054]] \n",
      " [[-1.2911166   1.83522754 -0.83074399]\n",
      " [ 0.87825613 -3.9216477   1.58745865]\n",
      " [ 1.36637305  2.37607215 -1.45919574]\n",
      " [ 0.14694931 -1.85345675 -2.89302642]\n",
      " [-3.14990514  0.4706414   1.12565833]]\n"
     ]
    }
   ],
   "source": [
    "print(w1, \"\\n\" , w2)"
   ]
  },
  {
   "cell_type": "code",
   "execution_count": 21,
   "metadata": {},
   "outputs": [
    {
     "name": "stdout",
     "output_type": "stream",
     "text": [
      "Image of letter C\n"
     ]
    },
    {
     "data": {
      "image/png": "[encoded data removed]",
      "text/plain": [
       "<Figure size 640x480 with 1 Axes>"
      ]
     },
     "metadata": {},
     "output_type": "display_data"
    }
   ],
   "source": [
    "predict(x[2] , w1 , w2)"
   ]
  }
 ],
 "metadata": {
  "kernelspec": {
   "display_name": "base",
   "language": "python",
   "name": "python3"
  },
  "language_info": {
   "codemirror_mode": {
    "name": "ipython",
    "version": 3
   },
   "file_extension": ".py",
   "mimetype": "text/x-python",
   "name": "python",
   "nbconvert_exporter": "python",
   "pygments_lexer": "ipython3",
   "version": "3.13.5"
  }
 },
 "nbformat": 4,
 "nbformat_minor": 2
}
