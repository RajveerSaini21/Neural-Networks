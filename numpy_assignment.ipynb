{
 "cells": [
  {
   "cell_type": "code",
   "execution_count": 14,
   "metadata": {},
   "outputs": [
    {
     "name": "stdout",
     "output_type": "stream",
     "text": [
      "Array :  [ 1  2  3  4  5  6  7  8  9 10 11 12 13 14 15 16 17 18 19 20]\n",
      "Sum :  210\n",
      "Mean :  10.5\n",
      "Median :  10.5\n",
      "Standard Deviation :  5.766281297335398\n",
      "(array([10, 11, 12, 13, 14, 15, 16, 17, 18, 19]),)\n"
     ]
    }
   ],
   "source": [
    "import numpy as np\n",
    "arr = np.arange(1,21)\n",
    "print(\"Array : \",arr)\n",
    "\n",
    "#Calculating the sum , mean , median and standard deviation of the array\n",
    "print(\"Sum : \", np.sum(arr))\n",
    "print(\"Mean : \", np.mean(arr))\n",
    "print(\"Median : \", np.median(arr))\n",
    "print(\"Standard Deviation : \", np.std(arr))\n",
    "\n",
    "#Find indices of element which is greater tham 10\n",
    "index10 = np.where(arr>10)\n",
    "print(index10)\n",
    "\n"
   ]
  },
  {
   "cell_type": "code",
   "execution_count": 15,
   "metadata": {},
   "outputs": [
    {
     "name": "stdout",
     "output_type": "stream",
     "text": [
      "2D Array : \n",
      " [[ 1  2  3  4]\n",
      " [ 5  6  7  8]\n",
      " [ 9 10 11 12]\n",
      " [13 14 15 16]]\n",
      "Transpose Array : \n",
      " [[ 1  5  9 13]\n",
      " [ 2  6 10 14]\n",
      " [ 3  7 11 15]\n",
      " [ 4  8 12 16]]\n",
      "Row wise sum :  [10 26 42 58]\n",
      "Column wise sum :  [28 32 36 40]\n"
     ]
    }
   ],
   "source": [
    "#create a 2D NumPy array of shape 4*4 with numbers 1 to 16\n",
    "arr2D = np.arange(1,17)\n",
    "arr2D = arr2D.reshape(4,4) \n",
    "print(\"2D Array : \\n\" , arr2D)\n",
    "\n",
    "#Transpose\n",
    "print(\"Transpose Array : \\n\", arr2D.T)\n",
    "\n",
    "#row Wise and column wise sum\n",
    "print(\"Row wise sum : \" , np.sum(arr2D , axis=1))\n",
    "print(\"Column wise sum : \" , np.sum(arr2D , axis=0))"
   ]
  },
  {
   "cell_type": "code",
   "execution_count": 16,
   "metadata": {},
   "outputs": [
    {
     "name": "stdout",
     "output_type": "stream",
     "text": [
      "Array A:\n",
      " [[18 12  9]\n",
      " [ 8  4  9]\n",
      " [ 4  3 19]]\n",
      "\n",
      "Array B:\n",
      " [[10 12 15]\n",
      " [ 1 10  4]\n",
      " [12 11  9]]\n",
      "\n",
      "Addition:\n",
      " [[28 24 24]\n",
      " [ 9 14 13]\n",
      " [16 14 28]]\n",
      "\n",
      "Subtraction:\n",
      " [[ 8  0 -6]\n",
      " [ 7 -6  5]\n",
      " [-8 -8 10]]\n",
      "\n",
      "Multiplication:\n",
      " [[180 144 135]\n",
      " [  8  40  36]\n",
      " [ 48  33 171]]\n",
      "Dot Product:\n",
      " [[300 435 399]\n",
      " [192 235 217]\n",
      " [271 287 243]]\n",
      "Reshaped Array:\n",
      " [[ 1  2  3  4]\n",
      " [ 5  6  7  8]\n",
      " [ 9 10 11 12]]\n",
      "\n",
      "Sliced (first 2 rows, last 2 columns):\n",
      " [[3 4]\n",
      " [7 8]]\n"
     ]
    }
   ],
   "source": [
    "#create two 3x3 arrays with random integers (1 to 20)\n",
    "arr1 = np.random.randint(1, 21, (3, 3))\n",
    "arr2 = np.random.randint(1, 21, (3, 3))\n",
    "\n",
    "print(\"Array A:\\n\", arr1)\n",
    "print()\n",
    "print(\"Array B:\\n\", arr2)\n",
    "print()\n",
    "\n",
    "print(\"Addition:\\n\", arr1 + arr2)\n",
    "print()\n",
    "print(\"Subtraction:\\n\", arr1 - arr2)\n",
    "print()\n",
    "print(\"Multiplication:\\n\", arr1 * arr2)\n",
    "\n",
    "\n",
    "#dot product\n",
    "print(\"Dot Product:\\n\", np.dot(arr1, arr2))\n",
    "\n",
    "\n",
    "# reshape a 1D array of size 12 to 3*4 \n",
    "arr_reshape = np.arange(1,13)\n",
    "arr_reshape = arr_reshape.reshape(3,4)\n",
    "print(\"Reshaped Array:\\n\", arr_reshape)\n",
    "print()\n",
    "\n",
    "# Slice first 2 rows and last 2 columns\n",
    "print(\"Sliced (first 2 rows, last 2 columns):\\n\", arr_reshape[:2, -2:])"
   ]
  }
 ],
 "metadata": {
  "kernelspec": {
   "display_name": "base",
   "language": "python",
   "name": "python3"
  },
  "language_info": {
   "codemirror_mode": {
    "name": "ipython",
    "version": 3
   },
   "file_extension": ".py",
   "mimetype": "text/x-python",
   "name": "python",
   "nbconvert_exporter": "python",
   "pygments_lexer": "ipython3",
   "version": "3.13.5"
  }
 },
 "nbformat": 4,
 "nbformat_minor": 2
}
