{
 "cells": [
  {
   "cell_type": "code",
   "execution_count": 9,
   "metadata": {},
   "outputs": [
    {
     "name": "stdout",
     "output_type": "stream",
     "text": [
      "      Name  Age Department  Salary\n",
      "0    Alice   24         HR   45000\n",
      "1      Bob   27    Finance   54000\n",
      "2  Charlie   22         IT   50000\n",
      "3    Diana   32  Marketing   62000\n",
      "4      Eve   29         HR   47000\n",
      "\n",
      "             Age        Salary\n",
      "count   5.000000      5.000000\n",
      "mean   26.800000  51600.000000\n",
      "std     3.962323   6730.527468\n",
      "min    22.000000  45000.000000\n",
      "25%    24.000000  47000.000000\n",
      "50%    27.000000  50000.000000\n",
      "75%    29.000000  54000.000000\n",
      "max    32.000000  62000.000000\n",
      "\n",
      "46000.0\n"
     ]
    }
   ],
   "source": [
    "import pandas as pd \n",
    "\n",
    "data = {\n",
    "      'Name': ['Alice', 'Bob', 'Charlie', 'Diana', 'Eve'],\n",
    "      'Age': [24, 27, 22, 32, 29],\n",
    "      'Department': ['HR', 'Finance', 'IT', 'Marketing', 'HR'],\n",
    "      'Salary': [45000, 54000, 50000, 62000, 47000]\n",
    "}\n",
    "\n",
    "df = pd.DataFrame(data)\n",
    "\n",
    "#First 5 rows\n",
    "print(df.head())\n",
    "print()\n",
    "\n",
    "#Summary statistics of Salary and Age columns\n",
    "print(df[['Age', 'Salary']].describe())\n",
    "print()\n",
    "\n",
    "#Avg salary in HR \n",
    "avg_hr = df[df['Department'] == 'HR']['Salary'].mean()\n",
    "print(avg_hr)"
   ]
  },
  {
   "cell_type": "code",
   "execution_count": 10,
   "metadata": {},
   "outputs": [
    {
     "name": "stdout",
     "output_type": "stream",
     "text": [
      "      Name  Age Department  Salary   Bonus\n",
      "0    Alice   24         HR   45000  4500.0\n",
      "1      Bob   27    Finance   54000  5400.0\n",
      "2  Charlie   22         IT   50000  5000.0\n",
      "3    Diana   32  Marketing   62000  6200.0\n",
      "4      Eve   29         HR   47000  4700.0\n",
      "\n"
     ]
    }
   ],
   "source": [
    "# Add a 'Bonus' column (10% of salary)\n",
    "df['Bonus'] = df['Salary'] * 0.1\n",
    "print(df) \n",
    "print()"
   ]
  },
  {
   "cell_type": "code",
   "execution_count": 11,
   "metadata": {},
   "outputs": [
    {
     "name": "stdout",
     "output_type": "stream",
     "text": [
      "  Name  Age Department  Salary   Bonus\n",
      "1  Bob   27    Finance   54000  5400.0\n",
      "4  Eve   29         HR   47000  4700.0\n",
      "\n"
     ]
    }
   ],
   "source": [
    "#filter employees aged between 25 and 30\n",
    "filtered_age = df[(df['Age'] >= 25) & (df['Age'] <= 30)]\n",
    "print(filtered_age)\n",
    "print()"
   ]
  },
  {
   "cell_type": "code",
   "execution_count": 12,
   "metadata": {},
   "outputs": [
    {
     "name": "stdout",
     "output_type": "stream",
     "text": [
      "Department\n",
      "Finance      54000.0\n",
      "HR           46000.0\n",
      "IT           50000.0\n",
      "Marketing    62000.0\n",
      "Name: Salary, dtype: float64\n",
      "\n"
     ]
    }
   ],
   "source": [
    "#group by department and get average salary\n",
    "avg_salary_dept = df.groupby('Department')['Salary'].mean()\n",
    "print(avg_salary_dept)\n",
    "print()"
   ]
  },
  {
   "cell_type": "code",
   "execution_count": 13,
   "metadata": {},
   "outputs": [
    {
     "name": "stdout",
     "output_type": "stream",
     "text": [
      "      Name  Age Department  Salary   Bonus\n",
      "0    Alice   24         HR   45000  4500.0\n",
      "4      Eve   29         HR   47000  4700.0\n",
      "2  Charlie   22         IT   50000  5000.0\n",
      "1      Bob   27    Finance   54000  5400.0\n",
      "3    Diana   32  Marketing   62000  6200.0\n"
     ]
    }
   ],
   "source": [
    "#sort by salary and save to CSV\n",
    "sorted_df = df.sort_values(by='Salary')\n",
    "print(sorted_df)\n",
    "sorted_df.to_csv('sorted_df.csv', index=False)"
   ]
  }
 ],
 "metadata": {
  "kernelspec": {
   "display_name": "base",
   "language": "python",
   "name": "python3"
  },
  "language_info": {
   "codemirror_mode": {
    "name": "ipython",
    "version": 3
   },
   "file_extension": ".py",
   "mimetype": "text/x-python",
   "name": "python",
   "nbconvert_exporter": "python",
   "pygments_lexer": "ipython3",
   "version": "3.13.5"
  }
 },
 "nbformat": 4,
 "nbformat_minor": 2
}
